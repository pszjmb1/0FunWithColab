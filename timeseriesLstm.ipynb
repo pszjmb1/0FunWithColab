{
  "nbformat": 4,
  "nbformat_minor": 0,
  "metadata": {
    "colab": {
      "name": "timeseriesLstm.ipynb",
      "version": "0.3.2",
      "provenance": [],
      "toc_visible": true,
      "include_colab_link": true
    },
    "kernelspec": {
      "name": "python3",
      "display_name": "Python 3"
    },
    "accelerator": "TPU"
  },
  "cells": [
    {
      "cell_type": "markdown",
      "metadata": {
        "id": "view-in-github",
        "colab_type": "text"
      },
      "source": [
        "<a href=\"https://colab.research.google.com/github/pszjmb1/0FunWithColab/blob/master/timeseriesLstm.ipynb\" target=\"_parent\"><img src=\"https://colab.research.google.com/assets/colab-badge.svg\" alt=\"Open In Colab\"/></a>"
      ]
    },
    {
      "metadata": {
        "id": "MDbIN1QQBh0z",
        "colab_type": "text"
      },
      "cell_type": "markdown",
      "source": [
        "# Introduction\n",
        "\n",
        "Time Series Forecasting with the Long Short-Term Memory Network in Python\n",
        "by Jason Brownlee \n",
        "\n",
        "Based on https://machinelearningmastery.com/time-series-forecasting-long-short-term-memory-network-python/ , https://machinelearningmastery.com/implement-baseline-machine-learning-algorithms-scratch-python/ and https://machinelearningmastery.com/time-series-data-stationary-python/"
      ]
    },
    {
      "metadata": {
        "id": "P2ekDysKh0TP",
        "colab_type": "code",
        "colab": {
          "base_uri": "https://localhost:8080/",
          "height": 87
        },
        "outputId": "38ee32f4-eeb3-4b7d-8da8-a7a785d026b9"
      },
      "cell_type": "code",
      "source": [
        "# Load libraries\n",
        "from math import sqrt\n",
        "import numpy\n",
        "import pandas as pd\n",
        "from sklearn.metrics import mean_squared_error\n",
        "from sklearn.preprocessing import MinMaxScaler\n",
        "from statsmodels.tsa.stattools import adfuller  # for testing for stationarity\n",
        "from keras.models import Sequential\n",
        "from keras.layers import Dense\n",
        "from keras.layers import LSTM\n",
        "from matplotlib import pyplot"
      ],
      "execution_count": 1,
      "outputs": [
        {
          "output_type": "stream",
          "text": [
            "/usr/local/lib/python3.6/dist-packages/statsmodels/compat/pandas.py:56: FutureWarning: The pandas.core.datetools module is deprecated and will be removed in a future version. Please use the pandas.tseries module instead.\n",
            "  from pandas.core import datetools\n",
            "Using TensorFlow backend.\n"
          ],
          "name": "stderr"
        }
      ]
    },
    {
      "metadata": {
        "id": "KCGl1TOTzLEb",
        "colab_type": "code",
        "colab": {
          "base_uri": "https://localhost:8080/",
          "height": 34
        },
        "outputId": "46cab11b-dd41-4afd-a0d7-af55722c6a86"
      },
      "cell_type": "code",
      "source": [
        "import logging\n",
        "import sys\n",
        "\n",
        "logging.basicConfig(format='%(asctime)s - %(levelname)s : %(message)s',\n",
        "                     level=logging.INFO, stream=sys.stdout)\n",
        "\n",
        "logging.info('Time Series Forecasting!')"
      ],
      "execution_count": 47,
      "outputs": [
        {
          "output_type": "stream",
          "text": [
            "2018-10-27 18:36:20,000 - INFO : Time Series Forecasting!\n"
          ],
          "name": "stdout"
        }
      ]
    },
    {
      "metadata": {
        "id": "FCyyXk3aCtza",
        "colab_type": "text"
      },
      "cell_type": "markdown",
      "source": [
        "# Download and load data\n",
        "This dataset describes the monthly number of shampoo sales over a 3 year period.\n",
        "\n",
        "The units are a sales count and there are 36 observations. The original dataset is credited to Makridakis, Wheelwright, and Hyndman (1998)."
      ]
    },
    {
      "metadata": {
        "id": "ifDmRHzNCpP-",
        "colab_type": "code",
        "colab": {
          "base_uri": "https://localhost:8080/",
          "height": 168
        },
        "outputId": "ca5b1086-eb3f-4ea8-9c37-37949a0c76d6"
      },
      "cell_type": "code",
      "source": [
        "dataLocation = \"https://raw.githubusercontent.com/jbrownlee/Datasets/master/shampoo.csv\"\n",
        "# load dataset\n",
        "def parser(x):\n",
        "\treturn pd.datetime.strptime('190'+x, '%Y-%m')\n",
        "#The squeeze param returns a series\n",
        "series = pd.read_csv(dataLocation, header=0, parse_dates=[0], index_col=0, \n",
        "                  squeeze=True, date_parser=parser)\n",
        "values = pd.DataFrame(series.values)\n",
        "dataframe = pd.concat([values.shift(1), values], axis=1)\n",
        "dataframe.columns = ['t-1', 't+1']\n",
        "print(dataframe.head(5))\n",
        "X = dataframe.values\n",
        "train_size = int(len(X) * 0.66)\n",
        "print(len(dataframe.values))\n",
        "print(train_size)\n",
        "print(len(dataframe.values)-train_size)"
      ],
      "execution_count": 2,
      "outputs": [
        {
          "output_type": "stream",
          "text": [
            "     t-1    t+1\n",
            "0    NaN  266.0\n",
            "1  266.0  145.9\n",
            "2  145.9  183.1\n",
            "3  183.1  119.3\n",
            "4  119.3  180.3\n",
            "36\n",
            "23\n",
            "13\n"
          ],
          "name": "stdout"
        }
      ]
    },
    {
      "metadata": {
        "id": "98h5JYqFC1Ul",
        "colab_type": "text"
      },
      "cell_type": "markdown",
      "source": [
        "# Summarize and plot first few rows\n"
      ]
    },
    {
      "metadata": {
        "id": "TY7_S-vKCs0j",
        "colab_type": "code",
        "colab": {
          "base_uri": "https://localhost:8080/",
          "height": 490
        },
        "outputId": "6da60b4f-2a28-4651-8996-4d2a1388c59e"
      },
      "cell_type": "code",
      "source": [
        "print(series.head())\n",
        "# line plot\n",
        "series.plot()\n",
        "pyplot.show()"
      ],
      "execution_count": 3,
      "outputs": [
        {
          "output_type": "stream",
          "text": [
            "Month\n",
            "1901-01-01    266.0\n",
            "1901-02-01    145.9\n",
            "1901-03-01    183.1\n",
            "1901-04-01    119.3\n",
            "1901-05-01    180.3\n",
            "Name: Sales, dtype: float64\n"
          ],
          "name": "stdout"
        },
        {
          "output_type": "display_data",
          "data": {
            "image/png": "[encoded data removed]",
            "text/plain": [
              "<matplotlib.figure.Figure at 0x7f0ce00c4b38>"
            ]
          },
          "metadata": {
            "tags": []
          }
        }
      ]
    },
    {
      "metadata": {
        "id": "oT0VrXEABfJk",
        "colab_type": "text"
      },
      "cell_type": "markdown",
      "source": [
        "# Split data into train and test"
      ]
    },
    {
      "metadata": {
        "id": "o5dHc4tUBVG3",
        "colab_type": "code",
        "colab": {}
      },
      "cell_type": "code",
      "source": [
        "train, test = X[1:train_size], X[train_size:]\n",
        "train_X, train_y = train[:,0], train[:,1]\n",
        "test_X, test_y = test[:,0], test[:,1]"
      ],
      "execution_count": 0,
      "outputs": []
    },
    {
      "metadata": {
        "id": "PtUvZB6vOEqr",
        "colab_type": "code",
        "colab": {
          "base_uri": "https://localhost:8080/",
          "height": 67
        },
        "outputId": "86cbd493-da49-4c7e-f83f-960bf3b1aca9"
      },
      "cell_type": "code",
      "source": [
        "print(len(values))\n",
        "print(train_size)\n",
        "print(len(test_X))"
      ],
      "execution_count": 5,
      "outputs": [
        {
          "output_type": "stream",
          "text": [
            "36\n",
            "23\n",
            "13\n"
          ],
          "name": "stdout"
        }
      ]
    },
    {
      "metadata": {
        "id": "aLWVypYHDipA",
        "colab_type": "text"
      },
      "cell_type": "markdown",
      "source": [
        "# Baseline Forecasting\n",
        "\n",
        "A baseline in forecast performance provides a point of comparison.\n",
        "\n",
        "It is a point of reference for all other modeling techniques on your problem. If a model achieves performance at or below the baseline, the technique should be fixed or abandoned.\n",
        "\n",
        "The technique used to generate a forecast to calculate the baseline performance must be easy to implement and naive of problem-specific details.\n",
        "\n",
        "The goal is to get a baseline performance on your time series forecast problem as quickly as possible so that you can get to work better understanding the dataset and developing more advanced models.\n",
        "\n",
        "Three properties of a good technique for making a baseline forecast are:\n",
        " - Simple: A method that requires little or no training or intelligence.\n",
        " - Fast: A method that is fast to implement and computationally trivial to make a prediction.\n",
        " - Repeatable: A method that is deterministic, meaning that it produces an expected output given the same input."
      ]
    },
    {
      "metadata": {
        "id": "JKyBWpHUFmeo",
        "colab_type": "text"
      },
      "cell_type": "markdown",
      "source": [
        "## Persistence Forecast\n",
        "A good baseline forecast for a time series with a linear increasing trend is a persistence forecast.\n",
        "\n",
        "The persistence algorithm uses the value at the previous time step (t-1) to predict the expected outcome at the next time step (t+1).\n",
        "- This satisfies the three above conditions for a baseline forecast\n",
        "\n",
        "We can implement this by taking the last observation from the training data and history accumulated by walk-forward validation and using that to predict the current time step.\n",
        "\n",
        "Persistence Algorithm\n",
        "1. Transform the univariate dataset into a supervised learning problem.\n",
        "2. Establish the train and test datasets for the test harness.\n",
        "3. Define the persistence model.\n",
        "4. Make a forecast and establish a baseline performance.\n",
        "5. Review the complete example and plot the output."
      ]
    },
    {
      "metadata": {
        "id": "2H16Zmc4P4lr",
        "colab_type": "text"
      },
      "cell_type": "markdown",
      "source": [
        "### Algorithm"
      ]
    },
    {
      "metadata": {
        "id": "Y9xAG9yzBuhZ",
        "colab_type": "code",
        "colab": {}
      },
      "cell_type": "code",
      "source": [
        "def model_persistence(x):\n",
        "\treturn x"
      ],
      "execution_count": 0,
      "outputs": []
    },
    {
      "metadata": {
        "id": "_DNG78gNCQXl",
        "colab_type": "text"
      },
      "cell_type": "markdown",
      "source": [
        "## Baseline performance on test set"
      ]
    },
    {
      "metadata": {
        "id": "rgsmvdNFP8O1",
        "colab_type": "text"
      },
      "cell_type": "markdown",
      "source": [
        "### Generate predictions from model"
      ]
    },
    {
      "metadata": {
        "id": "hLFhfRakQDZj",
        "colab_type": "code",
        "colab": {}
      },
      "cell_type": "code",
      "source": [
        "predictions_Base = list()\n",
        "for x in test_X:\n",
        "\tyhat = model_persistence(x)\n",
        "\tpredictions_Base.append(yhat)"
      ],
      "execution_count": 0,
      "outputs": []
    },
    {
      "metadata": {
        "id": "pns_Ulo7QPyA",
        "colab_type": "text"
      },
      "cell_type": "markdown",
      "source": [
        "### Assess the quality of the forecast algorithm"
      ]
    },
    {
      "metadata": {
        "id": "dVRhRN8BCTEA",
        "colab_type": "code",
        "colab": {
          "base_uri": "https://localhost:8080/",
          "height": 50
        },
        "outputId": "13c0c040-1010-43e4-8da1-d6d9d0c99e68"
      },
      "cell_type": "code",
      "source": [
        "test_score = mean_squared_error(test_y, predictions_Base)\n",
        "rmse = sqrt(test_score)\n",
        "print('Test MSE: %.3f' % test_score)\n",
        "print('Test RMSE: %.3f' % rmse)"
      ],
      "execution_count": 8,
      "outputs": [
        {
          "output_type": "stream",
          "text": [
            "Test MSE: 17730.518\n",
            "Test RMSE: 133.156\n"
          ],
          "name": "stdout"
        }
      ]
    },
    {
      "metadata": {
        "id": "QI9Uz3f_DVg6",
        "colab_type": "text"
      },
      "cell_type": "markdown",
      "source": [
        "RMSE of about 133 monthly shampoo sales for the forecasts on the test dataset."
      ]
    },
    {
      "metadata": {
        "id": "sMvsA2DACXZS",
        "colab_type": "text"
      },
      "cell_type": "markdown",
      "source": [
        "#### Plot of observed vs naive forecast"
      ]
    },
    {
      "metadata": {
        "id": "z5KiwoWtSts1",
        "colab_type": "code",
        "colab": {
          "base_uri": "https://localhost:8080/",
          "height": 361
        },
        "outputId": "d79614d7-e929-4ae4-fb59-48626d59399a"
      },
      "cell_type": "code",
      "source": [
        "trainMonths, testMonths = series.keys()[1:train_size],series.keys()[train_size:]\n",
        "pyplot.plot(trainMonths, train_y, 'o-', label='Observed Train',)\n",
        "pyplot.plot(series.keys()[1:],[None for i in train_y] + [x for x in test_y], 'o-', label='Observed Test')\n",
        "pyplot.plot(series.keys()[1:],[None for i in train_y] + [x for x in predictions_Base], 'o-', label='Forecast Test')\n",
        "pyplot.xlabel('Months')\n",
        "pyplot.ylabel('Shampoo sales')\n",
        "pyplot.legend()\n",
        "pyplot.ylim(ymin=0)\n",
        "pyplot.show()"
      ],
      "execution_count": 9,
      "outputs": [
        {
          "output_type": "display_data",
          "data": {
            "image/png": "[encoded data removed]",
            "text/plain": [
              "<matplotlib.figure.Figure at 0x7f0cb02d63c8>"
            ]
          },
          "metadata": {
            "tags": []
          }
        }
      ]
    },
    {
      "metadata": {
        "id": "zo4a7KceDGJv",
        "colab_type": "text"
      },
      "cell_type": "markdown",
      "source": [
        "Plot of the training observed dataset then a comparison of the observed test values with the forecast ones."
      ]
    },
    {
      "metadata": {
        "id": "8OnNR_7vay-B",
        "colab_type": "text"
      },
      "cell_type": "markdown",
      "source": [
        "# LTSM Model Forecasting\n",
        "\n",
        "The Long Short-Term Memory network (LSTM) is a type of Recurrent Neural Network (RNN).\n",
        "\n",
        "A benefit of this type of network is that it can learn and remember over long sequences and does not rely on a pre-specified window lagged observation as input."
      ]
    },
    {
      "metadata": {
        "id": "GLJ1QQkLbLEd",
        "colab_type": "text"
      },
      "cell_type": "markdown",
      "source": [
        "## Data prep\n",
        "1. Transform the time series into a supervised learning problem\n",
        "2. Transform the time series data so that it is stationary.\n",
        "3. Transform the observations to have a specific scale."
      ]
    },
    {
      "metadata": {
        "id": "5BEMKG-NbW_Z",
        "colab_type": "text"
      },
      "cell_type": "markdown",
      "source": [
        "### 1. Transform Time Series to Supervised Learning\n",
        "The LSTM model in Keras assumes that your data is divided into input (X) and output (y) components.\n",
        "\n",
        "For a time series problem, we can achieve this by using the observation from the last time step (t-1) as the input and the observation at the current time step (t) as the output.\n",
        "\n",
        "We can achieve this using the shift() function in Pandas that will push all values in a series down by a specified number places. We require a shift of 1 place, which will become the input variables. The time series as it stands will be the output variables.\n",
        "\n",
        "We can then concatenate these two series together to create a DataFrame ready for supervised learning. The pushed-down series will have a new position at the top with no value. A NaN (not a number) value will be used in this position. We will replace these NaN values with 0 values, which the LSTM model will have to learn as “the start of the series” or “I have no data here,” as a month with zero sales on this dataset has not been observed.\n",
        "\n",
        "The code below defines a helper function to do this called timeseries_to_supervised(). It takes a NumPy array of the raw time series data and a lag or number of shifted series to create and use as inputs."
      ]
    },
    {
      "metadata": {
        "id": "-IZh5a-ra3Ga",
        "colab_type": "code",
        "colab": {}
      },
      "cell_type": "code",
      "source": [
        "def timeseries_to_supervised(data, lag=1):\n",
        "  \"\"\"\n",
        "  Frame a time series as a supervised learning dataset.\n",
        "  Arguments:\n",
        "    data: Sequence of observations as a list or NumPy array.\n",
        "    lag: Number of lag observations as input (X).\n",
        "  Returns:\n",
        "    Pandas DataFrame of series framed for supervised learning.\n",
        "  \"\"\"\n",
        "  df = pd.DataFrame(data)\n",
        "  columns = [df.shift(i) for i in range(1, lag+1)]\n",
        "  columns.append(df)\n",
        "  df = pd.concat(columns, axis=1)\n",
        "  df.fillna(0, inplace=True)\n",
        "  return df"
      ],
      "execution_count": 0,
      "outputs": []
    },
    {
      "metadata": {
        "id": "RlvlFULhbsHX",
        "colab_type": "code",
        "colab": {
          "base_uri": "https://localhost:8080/",
          "height": 118
        },
        "outputId": "ff29c27e-0c46-47df-8606-712ace658259"
      },
      "cell_type": "code",
      "source": [
        "supervised = timeseries_to_supervised(X, 1)\n",
        "print(supervised.head())"
      ],
      "execution_count": 11,
      "outputs": [
        {
          "output_type": "stream",
          "text": [
            "       0      1      0      1\n",
            "0    0.0    0.0    0.0  266.0\n",
            "1    0.0  266.0  266.0  145.9\n",
            "2  266.0  145.9  145.9  183.1\n",
            "3  145.9  183.1  183.1  119.3\n",
            "4  183.1  119.3  119.3  180.3\n"
          ],
          "name": "stdout"
        }
      ]
    },
    {
      "metadata": {
        "id": "AD4uTaVWdNM1",
        "colab_type": "text"
      },
      "cell_type": "markdown",
      "source": [
        "### 2. Transform Time Series to Stationary\n",
        "\n",
        "The Shampoo Sales dataset is not stationary; there is a structure in the data that is dependent on the time. Specifically, there is an increasing trend in the data.\n",
        "\n",
        "Stationary data is easier to model and will very likely result in more skillful forecasts."
      ]
    },
    {
      "metadata": {
        "id": "Z8zPlrO2fpq5",
        "colab_type": "text"
      },
      "cell_type": "markdown",
      "source": [
        "#### Double-check stationarity\n",
        "Look at the mean and variance for data that conforms to a Gaussian distribution. Also eyeball a histogram of our observations."
      ]
    },
    {
      "metadata": {
        "id": "8CJaKcXwftGD",
        "colab_type": "code",
        "colab": {
          "base_uri": "https://localhost:8080/",
          "height": 347
        },
        "outputId": "d173ce5f-4659-440e-bc6a-330423c3d081"
      },
      "cell_type": "code",
      "source": [
        "series.hist()\n",
        "pyplot.show()"
      ],
      "execution_count": 12,
      "outputs": [
        {
          "output_type": "display_data",
          "data": {
            "image/png": "[encoded data removed]",
            "text/plain": [
              "<matplotlib.figure.Figure at 0x7f0cb02e7048>"
            ]
          },
          "metadata": {
            "tags": []
          }
        }
      ]
    },
    {
      "metadata": {
        "id": "zX1PH2-ZgRuh",
        "colab_type": "text"
      },
      "cell_type": "markdown",
      "source": [
        "The distribution of values does not look like a Gaussian, therefore the mean and variance values are less meaningful, however, let's review them"
      ]
    },
    {
      "metadata": {
        "id": "7LU0QfITgeaK",
        "colab_type": "code",
        "colab": {
          "base_uri": "https://localhost:8080/",
          "height": 50
        },
        "outputId": "6112e361-b445-432a-c670-ec8407bbb3ab"
      },
      "cell_type": "code",
      "source": [
        "split = int(len(X) / 2)\n",
        "X1, X2 = X[0:split], X[split:]\n",
        "mean1, mean2 = X1.mean(), X2.mean()\n",
        "var1, var2 = X1.var(), X2.var()\n",
        "print('mean1=%f, mean2=%f' % (mean1, mean2))\n",
        "print('variance1=%f, variance2=%f' % (var1, var2))"
      ],
      "execution_count": 13,
      "outputs": [
        {
          "output_type": "stream",
          "text": [
            "mean1=nan, mean2=411.697222\n",
            "variance1=nan, variance2=15136.461937\n"
          ],
          "name": "stdout"
        }
      ]
    },
    {
      "metadata": {
        "id": "jZ5_aW8giKhh",
        "colab_type": "text"
      },
      "cell_type": "markdown",
      "source": [
        "#### Augmented Dickey-Fuller \n",
        "Test to confirm the hypothesis that the time series is non-stationary\n",
        "\n",
        "The Augmented Dickey-Fuller test is a type of statistical test called a unit root test.\n",
        "\n",
        "The intuition behind a unit root test is that it determines how strongly a time series is defined by a trend.\n",
        "\n",
        "The null hypothesis of the test is that the time series can be represented by a unit root, that it is not stationary (has some time-dependent structure). The alternate hypothesis (rejecting the null hypothesis) is that the time series is stationary.\n",
        "\n",
        "Null Hypothesis (H0): If failed to be rejected, it suggests the time series has a unit root, meaning it is non-stationary. It has some time dependent structure.\n",
        "Alternate Hypothesis (H1): The null hypothesis is rejected; it suggests the time series does not have a unit root, meaning it is stationary. It does not have time-dependent structure.\n",
        "We interpret this result using the p-value from the test. A p-value below a threshold (such as 5% or 1%) suggests we reject the null hypothesis (stationary), otherwise a p-value above the threshold suggests we fail to reject the null hypothesis (non-stationary).\n",
        "\n",
        "p-value > 0.05: Fail to reject the null hypothesis (H0), the data has a unit root and is non-stationary.\n",
        "p-value <= 0.05: Reject the null hypothesis (H0), the data does not have a unit root and is stationary."
      ]
    },
    {
      "metadata": {
        "id": "0stD-1dtihiG",
        "colab_type": "code",
        "colab": {
          "base_uri": "https://localhost:8080/",
          "height": 118
        },
        "outputId": "f502f682-be2e-46e4-8259-171fd87b886a"
      },
      "cell_type": "code",
      "source": [
        "result = adfuller(series.values)\n",
        "print('ADF Statistic: %f' % result[0])\n",
        "print('p-value: %f' % result[1])\n",
        "print('Critical Values:')\n",
        "for key, value in result[4].items():\n",
        "\tprint('\\t%s: %.3f' % (key, value))"
      ],
      "execution_count": 14,
      "outputs": [
        {
          "output_type": "stream",
          "text": [
            "ADF Statistic: 3.060142\n",
            "p-value: 1.000000\n",
            "Critical Values:\n",
            "\t1%: -3.724\n",
            "\t5%: -2.986\n",
            "\t10%: -2.633\n"
          ],
          "name": "stdout"
        }
      ]
    },
    {
      "metadata": {
        "id": "p55Kzw5xi169",
        "colab_type": "text"
      },
      "cell_type": "markdown",
      "source": [
        "The test statistic is positive, meaning we are much less likely to reject the null hypothesis (it looks non-stationary).\n",
        "\n",
        "As part of the output, we get a look-up table to help determine the ADF statistic. We can see that our statistic value of 3 is greater than the value of -2.6 at 10%.\n",
        "\n",
        "This suggests that we should fail to reject the null hypothesis. \n",
        "If H0 failed to be rejected, it suggests the time series has a unit root, meaning it is non-stationary. It has some time dependent structure."
      ]
    },
    {
      "metadata": {
        "id": "f8a46Iy2kQhU",
        "colab_type": "text"
      },
      "cell_type": "markdown",
      "source": [
        "#### Remove Trends\n",
        "The trend can be removed from the observations, then added back to forecasts later to return the prediction to the original scale and calculate a comparable error score.\n",
        "\n",
        "A standard way to remove a trend is by differencing the data. That is the observation from the previous time step (t-1) is subtracted from the current observation (t). This removes the trend and we are left with a difference series, or the changes to the observations from one time step to the next.\n",
        "\n",
        "\"Differencing can help stabilize the mean of the time series by removing changes in the level of a time series, and so eliminating (or reducing) trend and seasonality.\" — Page 215, Forecasting: principles and practice\n",
        "\n",
        "We can achieve this automatically using the diff() function in pandas. Alternatively, we can get finer grained control and write our own function to do this, which is preferred for its flexibility in this case."
      ]
    },
    {
      "metadata": {
        "id": "kEmnnr0vdLeO",
        "colab_type": "code",
        "colab": {}
      },
      "cell_type": "code",
      "source": [
        "def difference(dataset, interval=1):  \n",
        "  \"\"\"\n",
        "\tCreate a differenced series. Observation from the previous time step (t-1) is \n",
        "  subtracted from the current observation (t). \n",
        "  Note that the first observation in the series is skipped as there is no prior \n",
        "  observation with which to calculate a differenced value.\n",
        "\tArguments:\n",
        "\t\tdataset: Sequence of observations as a list or NumPy array.\n",
        "\t\tinterval: Number of observations to consider\n",
        "\tReturns:\n",
        "\t\tPandas Series of changes to the observations from one time step to the next\n",
        "\t\"\"\"\n",
        "  diff = list()\n",
        "  for i in range(interval, len(dataset)):\n",
        "    value = dataset[i] - dataset[i - interval]\n",
        "    diff.append(value)\n",
        "  return pd.Series(diff)"
      ],
      "execution_count": 0,
      "outputs": []
    },
    {
      "metadata": {
        "id": "PqcMoDE0kfqb",
        "colab_type": "code",
        "colab": {}
      },
      "cell_type": "code",
      "source": [
        "def inverse_difference(history, yhat, interval=1):\n",
        "  \"\"\"\n",
        "\tInvert differenced value\n",
        "  Takes forecasts made on the differenced series back into their original scale.\n",
        "\tArguments:\n",
        "\t\thistory: Sequence of observations as a list or NumPy array.\n",
        "    yhat: Output of the difference function\n",
        "\t\tinterval: Number of observations to consider\n",
        "\tReturns:\n",
        "\t\tPandas Series of forecasts on original scale\n",
        "\t\"\"\"\n",
        "  return yhat + history[-interval]"
      ],
      "execution_count": 0,
      "outputs": []
    },
    {
      "metadata": {
        "id": "bALuPmA1l_g-",
        "colab_type": "code",
        "colab": {
          "base_uri": "https://localhost:8080/",
          "height": 336
        },
        "outputId": "9d363bd9-c889-4156-8bc6-80795679de82"
      },
      "cell_type": "code",
      "source": [
        "print(series.head())\n",
        "# Test the functions\n",
        "differenced = difference(series, 1)    # transform to stationary\n",
        "print(differenced.head())\n",
        "# invert transform\n",
        "inverted = list()\n",
        "for i in range(len(differenced)):\n",
        "\tvalue = inverse_difference(series, differenced[i], len(series)-i)\n",
        "\tinverted.append(value)\n",
        "inverted = pd.Series(inverted)\n",
        "print(inverted.head())"
      ],
      "execution_count": 17,
      "outputs": [
        {
          "output_type": "stream",
          "text": [
            "Month\n",
            "1901-01-01    266.0\n",
            "1901-02-01    145.9\n",
            "1901-03-01    183.1\n",
            "1901-04-01    119.3\n",
            "1901-05-01    180.3\n",
            "Name: Sales, dtype: float64\n",
            "0   -120.1\n",
            "1     37.2\n",
            "2    -63.8\n",
            "3     61.0\n",
            "4    -11.8\n",
            "dtype: float64\n",
            "0    145.9\n",
            "1    183.1\n",
            "2    119.3\n",
            "3    180.3\n",
            "4    168.5\n",
            "dtype: float64\n"
          ],
          "name": "stdout"
        }
      ]
    },
    {
      "metadata": {
        "id": "mRu0byL7mqAU",
        "colab_type": "text"
      },
      "cell_type": "markdown",
      "source": [
        "### 3. Transform Time Series to Scale\n",
        "\n",
        "LSTMs expect data to be within the scale of the activation function used by the network (like other neural networks).\n",
        "\n",
        "The default activation function for LSTMs is the hyperbolic tangent (tanh), which outputs values between -1 and 1. This is the preferred range for the time series data.\n",
        "\n",
        "To make the experiment fair, the scaling coefficients (min and max) values must be calculated on the training dataset and applied to scale the test dataset and any forecasts. This is to avoid contaminating the experiment with knowledge from the test dataset, which might give the model a small edge.\n",
        "\n",
        "We can transform the dataset to the range [-1, 1] using the MinMaxScaler class. Like other scikit-learn transform classes, it requires data provided in a matrix format with rows and columns. Therefore, we must reshape our NumPy arrays before transforming, and invert the scale on forecasts to return the values back to the original scale so that the results can be interpreted and a comparable error score can be calculated."
      ]
    },
    {
      "metadata": {
        "id": "zOJLigf5oD8z",
        "colab_type": "code",
        "colab": {}
      },
      "cell_type": "code",
      "source": [
        "def scale(train, test):\n",
        "\t\"\"\"\n",
        "\tScale train and test data to [-1, 1]\n",
        "\tArguments:\n",
        "\t\ttrain: Train series\n",
        "\t\ttest: Test series\n",
        "\tReturns:\n",
        "\t\tscaler, train_scaled, test_scaled\n",
        "\t\"\"\"\n",
        "\t# fit scaler\n",
        "\tscaler = MinMaxScaler(feature_range=(-1, 1))\n",
        "\tscaler = scaler.fit(train)\n",
        "\t# transform train\n",
        "\ttrain = train.reshape(train.shape[0], train.shape[1])\n",
        "\ttrain_scaled = scaler.transform(train)\n",
        "\t# transform test\n",
        "\ttest = test.reshape(test.shape[0], test.shape[1])\n",
        "\ttest_scaled = scaler.transform(test)\n",
        "\treturn scaler, train_scaled, test_scaled\n",
        " \n",
        "def invert_scale(scaler, X, value):\n",
        "\t\"\"\"\n",
        "\tInverse scaling for a forecasted value\n",
        "\tArguments:\n",
        "\t\tscaler: The scaler from the scale function output\n",
        "\t\tvalue: Scled series\n",
        "\tReturns:\n",
        "\t\tNumpy array of predictions at original scale\n",
        "\t\"\"\"\n",
        "\tnew_row = [x for x in X] + [value]\n",
        "\tarray = numpy.array(new_row)\n",
        "\tarray = array.reshape(1, len(array))\n",
        "\tinverted = scaler.inverse_transform(array)\n",
        "\treturn inverted[0, -1]"
      ],
      "execution_count": 0,
      "outputs": []
    },
    {
      "metadata": {
        "id": "gOrCymZlmTJi",
        "colab_type": "code",
        "colab": {
          "base_uri": "https://localhost:8080/",
          "height": 336
        },
        "outputId": "ff3f95dd-1f46-4b89-9dab-a056c9358aa9"
      },
      "cell_type": "code",
      "source": [
        "print(series.head())\n",
        "# transform scale\n",
        "X2 = series.values.reshape(len(series.values), 1)\n",
        "scaler = MinMaxScaler(feature_range=(-1, 1))\n",
        "scaler = scaler.fit(X2)\n",
        "scaled_X = scaler.transform(X2)\n",
        "scaled_series = pd.Series(scaled_X[:, 0])\n",
        "print(scaled_series.head())\n",
        "# invert transform\n",
        "inverted_X = scaler.inverse_transform(scaled_X)\n",
        "inverted_series = pd.Series(inverted_X[:, 0])\n",
        "print(inverted_series.head())"
      ],
      "execution_count": 19,
      "outputs": [
        {
          "output_type": "stream",
          "text": [
            "Month\n",
            "1901-01-01    266.0\n",
            "1901-02-01    145.9\n",
            "1901-03-01    183.1\n",
            "1901-04-01    119.3\n",
            "1901-05-01    180.3\n",
            "Name: Sales, dtype: float64\n",
            "0   -0.478585\n",
            "1   -0.905456\n",
            "2   -0.773236\n",
            "3   -1.000000\n",
            "4   -0.783188\n",
            "dtype: float64\n",
            "0    266.0\n",
            "1    145.9\n",
            "2    183.1\n",
            "3    119.3\n",
            "4    180.3\n",
            "dtype: float64\n"
          ],
          "name": "stdout"
        }
      ]
    },
    {
      "metadata": {
        "id": "ld6MeNHlsTRR",
        "colab_type": "text"
      },
      "cell_type": "markdown",
      "source": [
        "## LSTM Model\n",
        "\n",
        "In Keras, long-term memory is referred to as stateful, and involves setting the “stateful” argument to “True” when defining an LSTM layer.\n",
        "\n",
        "By default, an LSTM layer in Keras maintains state between data within one batch. A batch of data is a fixed-sized number of rows from the training dataset that defines how many patterns to process before updating the weights of the network. State in the LSTM layer between batches is cleared by default, therefore we must make the LSTM stateful. This gives us fine-grained control over when state of the LSTM layer is cleared, by calling the reset_states() function.\n",
        "\n",
        "The LSTM layer expects input to be in a matrix with the dimensions: [samples, time steps, features].\n",
        "- Samples: These are independent observations from the domain, typically rows of data.\n",
        "- Time steps: These are separate time steps of a given variable for a given observation.\n",
        "- Features: These are separate measures observed at the time of observation.\n",
        "\n",
        "We have some flexibility in how the Shampoo Sales dataset is framed for the network. We will keep it simple and frame the problem as each time step in the original sequence is one separate sample, with one timestep and one feature.\n",
        "\n",
        "Given that the training dataset is defined as X inputs and y outputs, it must be reshaped into the Samples/TimeSteps/Features format.\n",
        "\n",
        "The shape of the input data must be specified in the LSTM layer using the “batch_input_shape” argument as a tuple that specifies the expected number of observations to read each batch, the number of time steps, and the number of features.\n",
        "\n",
        "The batch size is often much smaller than the total number of samples. It, along with the number of epochs, defines how quickly the network learns the data (how often the weights are updated).\n",
        "\n",
        "The final import parameter in defining the LSTM layer is the number of neurons, also called the number of memory units or blocks. This is a reasonably simple problem and a number between 1 and 5 should be sufficient.\n",
        "\n",
        "The line below creates a single LSTM hidden layer that also specifies the expectations of the input layer via the “batch_input_shape” argument.\n",
        "\n",
        "The network requires a single neuron in the output layer with a linear activation to predict the number of shampoo sales at the next time step.\n",
        "\n",
        "Once the network is specified, it must be compiled into an efficient symbolic representation using a backend mathematical library, such as TensorFlow or Theano.\n",
        "\n",
        "In compiling the network, we must specify a loss function and optimization algorithm. We will use “mean_squared_error” as the loss function as it closely matches RMSE that we will are interested in, and the efficient ADAM optimization algorithm.\n",
        "\n",
        "Once the network is compiled, it can be fit to the training data. Because the network is stateful, we must control when the internal state is reset. Therefore, we must manually manage the training process one epoch at a time across the desired number of epochs.\n",
        "\n",
        "By default, the samples within an epoch are shuffled prior to being exposed to the network. Again, this is undesirable for the LSTM because we want the network to build up state as it learns across the sequence of observations. We can disable the shuffling of samples by setting “shuffle” to “False“.\n",
        "\n",
        "Also by default, the network reports a lot of debug information about the learning progress and skill of the model at the end of each epoch. We can disable this by setting the “verbose” argument to the level of “0“.\n",
        "\n",
        "We can then reset the internal state at the end of the training epoch, ready for the next training iteration."
      ]
    },
    {
      "metadata": {
        "id": "NnIAoJUUtwg4",
        "colab_type": "code",
        "colab": {}
      },
      "cell_type": "code",
      "source": [
        "def fit_lstm(train, batch_size=1, nb_epoch=1500, neurons=1):\n",
        "  \"\"\"\n",
        "  Trains and returns an LSTM model.   \n",
        "  Arguments:\n",
        "    train: training dataset in a supervised learning format\n",
        "    batch_size: Int, often much smaller than the total number of samples. \n",
        "                It, along with the number of epochs, defines how quickly the \n",
        "                network learns the data (how often the weights are updated).\n",
        "    nb_epoch:   Int, number of epochs\n",
        "    neurons:    Int, number of neurons (number of memory units or blocks). \n",
        "                A number between 1 and 5 is often sufficient.\n",
        "  Returns: Keras LSTM model\n",
        "  \"\"\"\n",
        "  X, y = train[:, 0:-1], train[:, -1]\n",
        "  X = X.reshape(X.shape[0], 1, X.shape[1])\n",
        "  model = Sequential()\n",
        "  model.add(LSTM(neurons, batch_input_shape=(batch_size, X.shape[1], X.shape[2]), stateful=True))\n",
        "  model.add(Dense(1))\n",
        "  logging.info(\"Compiling LSTM...\")\n",
        "  model.compile(loss='mean_squared_error', optimizer='adam')\n",
        "  for i in range(nb_epoch):\n",
        "    model.fit(X, y, epochs=1, batch_size=batch_size, verbose=0, shuffle=False)\n",
        "    model.reset_states()\n",
        "    if i%250 == 0:\n",
        "      logging.info(\"Complete fit %d of %d\" % (i, nb_epoch))\n",
        "  return model"
      ],
      "execution_count": 0,
      "outputs": []
    },
    {
      "metadata": {
        "id": "AMeTAV8LtDD7",
        "colab_type": "code",
        "colab": {}
      },
      "cell_type": "code",
      "source": [
        "# transform data to be stationary\n",
        "raw_values = series.values\n",
        "train_size = int(len(raw_values) * 0.66)\n",
        "diff_values = difference(raw_values)\n",
        " \n",
        "# transform data to be supervised learning\n",
        "supervised = timeseries_to_supervised(diff_values)\n",
        "supervised_values = supervised.values\n",
        " \n",
        "# split data into train and test-sets\n",
        "train, test = supervised_values[0:train_size], supervised_values[train_size:]\n",
        " \n",
        "# transform the scale of the data\n",
        "scaler, train_scaled, test_scaled = scale(train, test)"
      ],
      "execution_count": 0,
      "outputs": []
    },
    {
      "metadata": {
        "id": "hFmoivNUxutf",
        "colab_type": "text"
      },
      "cell_type": "markdown",
      "source": [
        "## LSTM performance on test set\n",
        "\n",
        "Once the LSTM model is fit to the training data, it can be used to make forecasts.\n",
        "\n",
        "Again, we have some flexibility. We can decide to fit the model once on all of the training data, then predict each new time step one at a time from the test data (we’ll call this the fixed approach), or we can re-fit the model or update the model each time step of the test data as new observations from the test data are made available (we’ll call this the dynamic approach).\n",
        "\n",
        "In this tutorial, we will go with the fixed approach for its simplicity, although, we would expect the dynamic approach to result in better model skill.\n",
        "\n",
        "To make a forecast, we can call the predict() function on the model. This requires a 3D NumPy array input as an argument. In this case, it will be an array of one value, the observation at the previous time step."
      ]
    },
    {
      "metadata": {
        "id": "lD7bs6JRxMIe",
        "colab_type": "code",
        "colab": {}
      },
      "cell_type": "code",
      "source": [
        "def forecast_lstm(model, batch_size, X):\n",
        "  \"\"\"\n",
        "  Forecasts from an LSTM model using fixed approach\n",
        "  Fixed means that the model is fit once on all of the training data, \n",
        "  then predict each new time step one at a time from the test data\n",
        "  Arguments:\n",
        "    model: a fit model\n",
        "    batch_size: Int, value as per fit_lstm (e.g. 1)\n",
        "    X:   a row from the test data\n",
        "  Returns: the prediction as a single floating point value\n",
        "  \"\"\"\n",
        "  X = X.reshape(1, 1, len(X))\n",
        "  yhat = model.predict(X, batch_size=batch_size)\n",
        "  return yhat[0,0]"
      ],
      "execution_count": 0,
      "outputs": []
    },
    {
      "metadata": {
        "id": "mHIlaB_f0CbH",
        "colab_type": "text"
      },
      "cell_type": "markdown",
      "source": [
        "### Generate predictions from model"
      ]
    },
    {
      "metadata": {
        "id": "wDtmujQU0OR-",
        "colab_type": "code",
        "colab": {
          "base_uri": "https://localhost:8080/",
          "height": 1865
        },
        "outputId": "34a67e0a-e0ac-42a8-c525-01ba24e7e5a6"
      },
      "cell_type": "code",
      "source": [
        "# walk-forward validation on the test data\n",
        "# repeat the experiment from the previous section multiple times, \n",
        "# then take the average RMSE as an indication of how well the configuration \n",
        "# would be expected to perform on unseen data on average.\n",
        "repeats = 5\n",
        "error_scores = list()\n",
        "for r in range(repeats): \n",
        "  # fit the model\n",
        "  logging.info(\"Fitting LSTM %d...\" % (r))\n",
        "  lstm_model = fit_lstm(train_scaled)\n",
        "  # forecast the entire training dataset to build up state for forecasting\n",
        "  train_reshaped = train_scaled[:, 0].reshape(len(train_scaled), 1, 1)\n",
        "  lstm_model.predict(train_reshaped, batch_size=1)\n",
        "  logging.info(\"Making predictions...\")\n",
        "  predictions_lstm = list()\n",
        "  for i in range(len(test_scaled)):\n",
        "    # make one-step forecast\n",
        "    X, y = test_scaled[i, 0:-1], test_scaled[i, -1]\n",
        "    yhat = forecast_lstm(lstm_model, 1, X)\n",
        "    # invert scaling\n",
        "    yhat = invert_scale(scaler, X, yhat)\n",
        "    # invert differencing\n",
        "    yhat = inverse_difference(raw_values, yhat, len(test_scaled)+1-i)\n",
        "    # store forecast\n",
        "    predictions_lstm.append(yhat)\n",
        "    expected = raw_values[len(train) + i + 1]\n",
        "    logging.info('Month=%d, Predicted=%f, Expected=%f' % (i+1, yhat, expected))\n",
        "\t# report performance\n",
        "  rmse = sqrt(mean_squared_error(raw_values[train_size+1:], predictions_lstm))\n",
        "  logging.info('%d) Test RMSE: %.3f' % (r+1, rmse))\n",
        "  error_scores.append(rmse)"
      ],
      "execution_count": 54,
      "outputs": [
        {
          "output_type": "stream",
          "text": [
            "2018-10-27 18:40:55,712 - INFO : Fitting LSTM...\n",
            "2018-10-27 18:40:55,937 - INFO : Compiling LSTM...\n",
            "2018-10-27 18:41:00,392 - INFO : Complete fit 0 of 1500\n",
            "2018-10-27 18:41:12,478 - INFO : Complete fit 250 of 1500\n",
            "2018-10-27 18:41:24,847 - INFO : Complete fit 500 of 1500\n",
            "2018-10-27 18:41:37,231 - INFO : Complete fit 750 of 1500\n",
            "2018-10-27 18:41:49,418 - INFO : Complete fit 1000 of 1500\n",
            "2018-10-27 18:42:01,844 - INFO : Complete fit 1250 of 1500\n",
            "2018-10-27 18:42:14,704 - INFO : Making predictions...\n",
            "2018-10-27 18:42:14,706 - INFO : Month=1, Predicted=331.141332, Expected=339.700000\n",
            "2018-10-27 18:42:14,713 - INFO : Month=2, Predicted=343.871873, Expected=440.400000\n",
            "2018-10-27 18:42:14,717 - INFO : Month=3, Predicted=352.454579, Expected=315.900000\n",
            "2018-10-27 18:42:14,722 - INFO : Month=4, Predicted=377.186237, Expected=439.300000\n",
            "2018-10-27 18:42:14,729 - INFO : Month=5, Predicted=392.675337, Expected=401.300000\n",
            "2018-10-27 18:42:14,733 - INFO : Month=6, Predicted=453.049958, Expected=437.400000\n",
            "2018-10-27 18:42:14,737 - INFO : Month=7, Predicted=398.623328, Expected=575.500000\n",
            "2018-10-27 18:42:14,741 - INFO : Month=8, Predicted=473.846235, Expected=407.600000\n",
            "2018-10-27 18:42:14,744 - INFO : Month=9, Predicted=461.655515, Expected=682.000000\n",
            "2018-10-27 18:42:14,752 - INFO : Month=10, Predicted=634.346352, Expected=475.300000\n",
            "2018-10-27 18:42:14,758 - INFO : Month=11, Predicted=529.355515, Expected=581.300000\n",
            "2018-10-27 18:42:14,765 - INFO : Month=12, Predicted=593.749320, Expected=646.900000\n",
            "2018-10-27 18:42:14,768 - INFO : 1) Test RMSE: 104.063\n",
            "2018-10-27 18:42:14,770 - INFO : Fitting LSTM...\n",
            "2018-10-27 18:42:14,999 - INFO : Compiling LSTM...\n",
            "2018-10-27 18:42:19,328 - INFO : Complete fit 0 of 1500\n",
            "2018-10-27 18:42:31,751 - INFO : Complete fit 250 of 1500\n",
            "2018-10-27 18:42:43,725 - INFO : Complete fit 500 of 1500\n",
            "2018-10-27 18:42:55,559 - INFO : Complete fit 750 of 1500\n",
            "2018-10-27 18:43:07,500 - INFO : Complete fit 1000 of 1500\n",
            "2018-10-27 18:43:19,267 - INFO : Complete fit 1250 of 1500\n",
            "2018-10-27 18:43:31,384 - INFO : Making predictions...\n",
            "2018-10-27 18:43:31,388 - INFO : Month=1, Predicted=311.231472, Expected=339.700000\n",
            "2018-10-27 18:43:31,393 - INFO : Month=2, Predicted=354.406290, Expected=440.400000\n",
            "2018-10-27 18:43:31,398 - INFO : Month=3, Predicted=356.902104, Expected=315.900000\n",
            "2018-10-27 18:43:31,403 - INFO : Month=4, Predicted=385.056109, Expected=439.300000\n",
            "2018-10-27 18:43:31,408 - INFO : Month=5, Predicted=374.464964, Expected=401.300000\n",
            "2018-10-27 18:43:31,413 - INFO : Month=6, Predicted=452.852223, Expected=437.400000\n",
            "2018-10-27 18:43:31,418 - INFO : Month=7, Predicted=405.098624, Expected=575.500000\n",
            "2018-10-27 18:43:31,422 - INFO : Month=8, Predicted=471.630416, Expected=407.600000\n",
            "2018-10-27 18:43:31,427 - INFO : Month=9, Predicted=476.756109, Expected=682.000000\n",
            "2018-10-27 18:43:31,432 - INFO : Month=10, Predicted=580.158733, Expected=475.300000\n",
            "2018-10-27 18:43:31,436 - INFO : Month=11, Predicted=544.456109, Expected=581.300000\n",
            "2018-10-27 18:43:31,440 - INFO : Month=12, Predicted=589.397720, Expected=646.900000\n",
            "2018-10-27 18:43:31,443 - INFO : 2) Test RMSE: 93.412\n",
            "2018-10-27 18:43:31,445 - INFO : Fitting LSTM...\n",
            "2018-10-27 18:43:31,663 - INFO : Compiling LSTM...\n",
            "2018-10-27 18:43:36,104 - INFO : Complete fit 0 of 1500\n",
            "2018-10-27 18:43:48,344 - INFO : Complete fit 250 of 1500\n",
            "2018-10-27 18:44:00,356 - INFO : Complete fit 500 of 1500\n",
            "2018-10-27 18:44:13,120 - INFO : Complete fit 750 of 1500\n",
            "2018-10-27 18:44:26,282 - INFO : Complete fit 1000 of 1500\n",
            "2018-10-27 18:44:37,875 - INFO : Complete fit 1250 of 1500\n",
            "2018-10-27 18:44:50,086 - INFO : Making predictions...\n",
            "2018-10-27 18:44:50,091 - INFO : Month=1, Predicted=285.707702, Expected=339.700000\n",
            "2018-10-27 18:44:50,094 - INFO : Month=2, Predicted=362.994835, Expected=440.400000\n",
            "2018-10-27 18:44:50,098 - INFO : Month=3, Predicted=370.863661, Expected=315.900000\n",
            "2018-10-27 18:44:50,102 - INFO : Month=4, Predicted=381.143647, Expected=439.300000\n",
            "2018-10-27 18:44:50,106 - INFO : Month=5, Predicted=346.242224, Expected=401.300000\n",
            "2018-10-27 18:44:50,110 - INFO : Month=6, Predicted=457.570456, Expected=437.400000\n",
            "2018-10-27 18:44:50,114 - INFO : Month=7, Predicted=415.302807, Expected=575.500000\n",
            "2018-10-27 18:44:50,117 - INFO : Month=8, Predicted=481.864925, Expected=407.600000\n",
            "2018-10-27 18:44:50,121 - INFO : Month=9, Predicted=472.843647, Expected=682.000000\n",
            "2018-10-27 18:44:50,125 - INFO : Month=10, Predicted=509.085607, Expected=475.300000\n",
            "2018-10-27 18:44:50,129 - INFO : Month=11, Predicted=540.543647, Expected=581.300000\n",
            "2018-10-27 18:44:50,133 - INFO : Month=12, Predicted=502.156674, Expected=646.900000\n",
            "2018-10-27 18:44:50,135 - INFO : 3) Test RMSE: 98.922\n",
            "2018-10-27 18:44:50,136 - INFO : Fitting LSTM...\n",
            "2018-10-27 18:44:50,692 - INFO : Compiling LSTM...\n",
            "2018-10-27 18:44:55,278 - INFO : Complete fit 0 of 1500\n",
            "2018-10-27 18:45:06,934 - INFO : Complete fit 250 of 1500\n",
            "2018-10-27 18:45:18,888 - INFO : Complete fit 500 of 1500\n",
            "2018-10-27 18:45:31,731 - INFO : Complete fit 750 of 1500\n",
            "2018-10-27 18:45:44,366 - INFO : Complete fit 1000 of 1500\n",
            "2018-10-27 18:45:56,614 - INFO : Complete fit 1250 of 1500\n",
            "2018-10-27 18:46:10,265 - INFO : Making predictions...\n",
            "2018-10-27 18:46:10,268 - INFO : Month=1, Predicted=313.809165, Expected=339.700000\n",
            "2018-10-27 18:46:10,278 - INFO : Month=2, Predicted=353.073741, Expected=440.400000\n",
            "2018-10-27 18:46:10,281 - INFO : Month=3, Predicted=356.294700, Expected=315.900000\n",
            "2018-10-27 18:46:10,290 - INFO : Month=4, Predicted=384.901502, Expected=439.300000\n",
            "2018-10-27 18:46:10,296 - INFO : Month=5, Predicted=376.882851, Expected=401.300000\n",
            "2018-10-27 18:46:10,303 - INFO : Month=6, Predicted=452.000300, Expected=437.400000\n",
            "2018-10-27 18:46:10,306 - INFO : Month=7, Predicted=405.644873, Expected=575.500000\n",
            "2018-10-27 18:46:10,311 - INFO : Month=8, Predicted=468.490676, Expected=407.600000\n",
            "2018-10-27 18:46:10,318 - INFO : Month=9, Predicted=476.601502, Expected=682.000000\n",
            "2018-10-27 18:46:10,323 - INFO : Month=10, Predicted=587.853891, Expected=475.300000\n",
            "2018-10-27 18:46:10,330 - INFO : Month=11, Predicted=544.301502, Expected=581.300000\n",
            "2018-10-27 18:46:10,333 - INFO : Month=12, Predicted=582.786576, Expected=646.900000\n",
            "2018-10-27 18:46:10,336 - INFO : 4) Test RMSE: 94.248\n",
            "2018-10-27 18:46:10,337 - INFO : Fitting LSTM...\n",
            "2018-10-27 18:46:10,568 - INFO : Compiling LSTM...\n",
            "2018-10-27 18:46:15,454 - INFO : Complete fit 0 of 1500\n",
            "2018-10-27 18:46:27,895 - INFO : Complete fit 250 of 1500\n",
            "2018-10-27 18:46:40,022 - INFO : Complete fit 500 of 1500\n",
            "2018-10-27 18:46:52,523 - INFO : Complete fit 750 of 1500\n",
            "2018-10-27 18:47:04,768 - INFO : Complete fit 1000 of 1500\n",
            "2018-10-27 18:47:17,031 - INFO : Complete fit 1250 of 1500\n",
            "2018-10-27 18:47:30,002 - INFO : Making predictions...\n",
            "2018-10-27 18:47:30,005 - INFO : Month=1, Predicted=303.910744, Expected=339.700000\n",
            "2018-10-27 18:47:30,015 - INFO : Month=2, Predicted=356.802187, Expected=440.400000\n",
            "2018-10-27 18:47:30,019 - INFO : Month=3, Predicted=367.555775, Expected=315.900000\n",
            "2018-10-27 18:47:30,025 - INFO : Month=4, Predicted=411.589553, Expected=439.300000\n",
            "2018-10-27 18:47:30,030 - INFO : Month=5, Predicted=357.301843, Expected=401.300000\n",
            "2018-10-27 18:47:30,034 - INFO : Month=6, Predicted=445.303409, Expected=437.400000\n",
            "2018-10-27 18:47:30,039 - INFO : Month=7, Predicted=430.653206, Expected=575.500000\n",
            "2018-10-27 18:47:30,043 - INFO : Month=8, Predicted=463.078552, Expected=407.600000\n",
            "2018-10-27 18:47:30,049 - INFO : Month=9, Predicted=503.293309, Expected=682.000000\n",
            "2018-10-27 18:47:30,054 - INFO : Month=10, Predicted=537.815471, Expected=475.300000\n",
            "2018-10-27 18:47:30,061 - INFO : Month=11, Predicted=570.993375, Expected=581.300000\n",
            "2018-10-27 18:47:30,066 - INFO : Month=12, Predicted=515.948803, Expected=646.900000\n",
            "2018-10-27 18:47:30,069 - INFO : 5) Test RMSE: 87.016\n"
          ],
          "name": "stdout"
        }
      ]
    },
    {
      "metadata": {
        "id": "Z6yXQJ_xzut8",
        "colab_type": "text"
      },
      "cell_type": "markdown",
      "source": [
        "### Assess the quality of the LSTM model"
      ]
    },
    {
      "metadata": {
        "id": "bxQfQVyQz00N",
        "colab_type": "code",
        "colab": {
          "base_uri": "https://localhost:8080/",
          "height": 168
        },
        "outputId": "0627d25b-30e9-4db6-ab31-5a544ef7df5e"
      },
      "cell_type": "code",
      "source": [
        "# summarize results\n",
        "results = pd.DataFrame()\n",
        "results['rmse'] = error_scores\n",
        "print(results.describe())"
      ],
      "execution_count": 56,
      "outputs": [
        {
          "output_type": "stream",
          "text": [
            "             rmse\n",
            "count    5.000000\n",
            "mean    95.531946\n",
            "std      6.382352\n",
            "min     87.015864\n",
            "25%     93.411614\n",
            "50%     94.247584\n",
            "75%     98.921719\n",
            "max    104.062950\n"
          ],
          "name": "stdout"
        }
      ]
    },
    {
      "metadata": {
        "id": "xHja8SWA0lTu",
        "colab_type": "text"
      },
      "cell_type": "markdown",
      "source": [
        "#### Plot of observed vs LSTM forecast"
      ]
    },
    {
      "metadata": {
        "id": "YNeE9qPKwJRn",
        "colab_type": "code",
        "colab": {
          "base_uri": "https://localhost:8080/",
          "height": 347
        },
        "outputId": "82910104-1dcb-4f95-9814-167e5a434138"
      },
      "cell_type": "code",
      "source": [
        "results.boxplot()\n",
        "pyplot.show()"
      ],
      "execution_count": 57,
      "outputs": [
        {
          "output_type": "display_data",
          "data": {
            "image/png": "[encoded data removed]",
            "text/plain": [
              "<matplotlib.figure.Figure at 0x7f0ca2404518>"
            ]
          },
          "metadata": {
            "tags": []
          }
        }
      ]
    },
    {
      "metadata": {
        "id": "Y6O4zdqm2N8B",
        "colab_type": "code",
        "colab": {
          "base_uri": "https://localhost:8080/",
          "height": 361
        },
        "outputId": "6a036328-f6cb-4b80-87ec-e5eab25c5bde"
      },
      "cell_type": "code",
      "source": [
        "trainMonths, testMonths = series.keys()[0:train_size-1],series.keys()[train_size+1:]\n",
        "pyplot.plot(trainMonths, train_y, 'o-', label='Observed Train',)\n",
        "pyplot.plot(testMonths,raw_values[train_size+1:], 'o-', label='Observed Test')\n",
        "pyplot.plot(testMonths,predictions_lstm, 'o-', label='Forecast Test')\n",
        "pyplot.xlabel('Months')\n",
        "pyplot.ylabel('Shampoo sales')\n",
        "pyplot.legend()\n",
        "pyplot.ylim(ymin=0)\n",
        "pyplot.show()"
      ],
      "execution_count": 25,
      "outputs": [
        {
          "output_type": "display_data",
          "data": {
            "image/png": "[encoded data removed]",
            "text/plain": [
              "<matplotlib.figure.Figure at 0x7f0cb02d6358>"
            ]
          },
          "metadata": {
            "tags": []
          }
        }
      ]
    },
    {
      "metadata": {
        "id": "qaZ347Bf3oVV",
        "colab_type": "code",
        "colab": {
          "base_uri": "https://localhost:8080/",
          "height": 365
        },
        "outputId": "67f7ff4a-b3b5-4535-d933-9b1df64550fb"
      },
      "cell_type": "code",
      "source": [
        "pyplot.plot(raw_values[train_size+1:], 'o-', label='Observed Test')\n",
        "pyplot.plot(predictions_Base[1:], 'o-', label='Base Forecast Test')\n",
        "pyplot.plot(predictions_lstm, 'o-', label='Lstm Forecast Test')\n",
        "pyplot.xlabel('Months')\n",
        "pyplot.ylabel('Shampoo sales')\n",
        "pyplot.legend()\n",
        "pyplot.ylim(ymin=0)\n",
        "pyplot.show()"
      ],
      "execution_count": 26,
      "outputs": [
        {
          "output_type": "display_data",
          "data": {
            "image/png": "[encoded data removed]",
            "text/plain": [
              "<matplotlib.figure.Figure at 0x7f0caa1075f8>"
            ]
          },
          "metadata": {
            "tags": []
          }
        }
      ]
    },
    {
      "metadata": {
        "id": "3QP8QnZN-s2a",
        "colab_type": "code",
        "colab": {}
      },
      "cell_type": "code",
      "source": [
        ""
      ],
      "execution_count": 0,
      "outputs": []
    }
  ]
}